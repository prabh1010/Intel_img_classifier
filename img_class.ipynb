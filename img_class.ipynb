{
  "nbformat": 4,
  "nbformat_minor": 0,
  "metadata": {
    "colab": {
      "name": "img_class.ipynb",
      "provenance": [],
      "collapsed_sections": [],
      "include_colab_link": true
    },
    "kernelspec": {
      "name": "python3",
      "display_name": "Python 3"
    },
    "language_info": {
      "name": "python"
    },
    "accelerator": "GPU"
  },
  "cells": [
    {
      "cell_type": "markdown",
      "metadata": {
        "id": "view-in-github",
        "colab_type": "text"
      },
      "source": [
        "<a href=\"https://colab.research.google.com/github/prabh1010/Intel_img_classifier/blob/main/img_class.ipynb\" target=\"_parent\"><img src=\"https://colab.research.google.com/assets/colab-badge.svg\" alt=\"Open In Colab\"/></a>"
      ]
    },
    {
      "cell_type": "code",
      "metadata": {
        "colab": {
          "base_uri": "https://localhost:8080/"
        },
        "id": "yZKVDCDD8RBb",
        "outputId": "b975b96a-f770-4204-bcdd-c6155aa2ff07"
      },
      "source": [
        "import tensorflow as tf\n",
        "tf.test.is_gpu_available()"
      ],
      "execution_count": null,
      "outputs": [
        {
          "output_type": "stream",
          "text": [
            "WARNING:tensorflow:From <ipython-input-1-4a3f57d5652e>:2: is_gpu_available (from tensorflow.python.framework.test_util) is deprecated and will be removed in a future version.\n",
            "Instructions for updating:\n",
            "Use `tf.config.list_physical_devices('GPU')` instead.\n"
          ],
          "name": "stdout"
        },
        {
          "output_type": "execute_result",
          "data": {
            "text/plain": [
              "True"
            ]
          },
          "metadata": {
            "tags": []
          },
          "execution_count": 1
        }
      ]
    },
    {
      "cell_type": "code",
      "metadata": {
        "colab": {
          "base_uri": "https://localhost:8080/"
        },
        "id": "zTgGeXK42UIp",
        "outputId": "eb6f97a9-ab3e-4488-8e05-26c55ac78bbc"
      },
      "source": [
        "!gdown https://drive.google.com/uc?id=1cmf6sgyKpJx0i6svq6NXNNbCH7WsSAVv\n",
        "#https://drive.google.com/file/d/1cmf6sgyKpJx0i6svq6NXNNbCH7WsSAVv/view?usp=sharing"
      ],
      "execution_count": null,
      "outputs": [
        {
          "output_type": "stream",
          "text": [
            "Downloading...\n",
            "From: https://drive.google.com/uc?id=1cmf6sgyKpJx0i6svq6NXNNbCH7WsSAVv\n",
            "To: /content/archive.zip\n",
            "363MB [00:08, 45.2MB/s]\n"
          ],
          "name": "stdout"
        }
      ]
    },
    {
      "cell_type": "code",
      "metadata": {
        "id": "iKc0Cyl_Sn2f",
        "colab": {
          "base_uri": "https://localhost:8080/",
          "height": 35
        },
        "outputId": "d77ed42b-83d7-4471-e2cd-2fd143892633"
      },
      "source": [
        "pwd"
      ],
      "execution_count": null,
      "outputs": [
        {
          "output_type": "execute_result",
          "data": {
            "application/vnd.google.colaboratory.intrinsic+json": {
              "type": "string"
            },
            "text/plain": [
              "'/content'"
            ]
          },
          "metadata": {
            "tags": []
          },
          "execution_count": 3
        }
      ]
    },
    {
      "cell_type": "code",
      "metadata": {
        "id": "-muuErt06ktW"
      },
      "source": [
        "from google.colab import drive\n",
        "drive.mount('/content/drive')"
      ],
      "execution_count": null,
      "outputs": []
    },
    {
      "cell_type": "code",
      "metadata": {
        "colab": {
          "base_uri": "https://localhost:8080/"
        },
        "id": "1NxMcyQB2dXA",
        "outputId": "06e4a9ce-39f7-44b3-9b64-057168b598a7"
      },
      "source": [
        "!unzip /content/archive.zip"
      ],
      "execution_count": null,
      "outputs": [
        {
          "output_type": "stream",
          "text": [
            "Archive:  /content/archive.zip\n",
            "replace seg_pred/seg_pred/10004.jpg? [y]es, [n]o, [A]ll, [N]one, [r]ename: "
          ],
          "name": "stdout"
        }
      ]
    },
    {
      "cell_type": "code",
      "metadata": {
        "id": "qD4pTqPY2vva"
      },
      "source": [
        "import os\n",
        "import numpy as np\n",
        "import torch\n",
        "import glob\n",
        "import torch.nn as nn\n",
        "from torchvision.transforms import transforms\n",
        "from torch.utils.data import DataLoader\n",
        "from torch.optim import Adam\n",
        "from torch.autograd import Variable\n",
        "import torchvision\n",
        "import pathlib"
      ],
      "execution_count": null,
      "outputs": []
    },
    {
      "cell_type": "code",
      "metadata": {
        "id": "Nmfdbx3i2zIv"
      },
      "source": [
        "device=torch.device('cuda' if torch.cuda.is_available() else 'cpu')"
      ],
      "execution_count": null,
      "outputs": []
    },
    {
      "cell_type": "code",
      "metadata": {
        "colab": {
          "base_uri": "https://localhost:8080/"
        },
        "id": "bcTY84dH22Y-",
        "outputId": "6a69cd27-52ca-4c35-8571-2e491b494b24"
      },
      "source": [
        "print(device)"
      ],
      "execution_count": null,
      "outputs": [
        {
          "output_type": "stream",
          "text": [
            "cpu\n"
          ],
          "name": "stdout"
        }
      ]
    },
    {
      "cell_type": "code",
      "metadata": {
        "id": "xOrZlFSg22nw"
      },
      "source": [
        "transformer=transforms.Compose([\n",
        "    transforms.Resize((150,150)),\n",
        "    transforms.RandomHorizontalFlip(),\n",
        "    transforms.ToTensor(),  #0-255 to 0-1, numpy to tensors\n",
        "    transforms.Normalize([0.5,0.5,0.5], # 0-1 to [-1,1] , formula (x-mean)/std\n",
        "                        [0.5,0.5,0.5])\n",
        "])"
      ],
      "execution_count": null,
      "outputs": []
    },
    {
      "cell_type": "code",
      "metadata": {
        "id": "dmOu3qWd3O2I"
      },
      "source": [
        "train_path='/content/seg_train/seg_train'\n",
        "test_path='/content/seg_test/seg_test'\n",
        "train_loader=DataLoader(\n",
        "    torchvision.datasets.ImageFolder(train_path,transform=transformer),batch_size=8,shuffle=True)\n",
        "test_loader=DataLoader(\n",
        "    torchvision.datasets.ImageFolder(test_path,transform=transformer),batch_size=4,shuffle=True)\n"
      ],
      "execution_count": null,
      "outputs": []
    },
    {
      "cell_type": "code",
      "metadata": {
        "id": "egTOZDo83UcB"
      },
      "source": [
        "root=pathlib.Path(train_path)\n",
        "classes=sorted([j.name.split('/')[-1] for j in root.iterdir()])"
      ],
      "execution_count": null,
      "outputs": []
    },
    {
      "cell_type": "code",
      "metadata": {
        "colab": {
          "base_uri": "https://localhost:8080/"
        },
        "id": "w5KznU4I3Y8i",
        "outputId": "7697083f-c38a-4aa0-ff29-645a4e6638b8"
      },
      "source": [
        "print(classes)"
      ],
      "execution_count": null,
      "outputs": [
        {
          "output_type": "stream",
          "text": [
            "['buildings', 'forest', 'glacier', 'mountain', 'sea', 'street']\n"
          ],
          "name": "stdout"
        }
      ]
    },
    {
      "cell_type": "code",
      "metadata": {
        "id": "CMzpbf683iV_"
      },
      "source": [
        "class ConvNet(nn.Module):\n",
        "    def __init__(self,num_classes=6):\n",
        "        super(ConvNet,self).__init__()\n",
        "        \n",
        "        #Output size after convolution filter\n",
        "        #((w-f+2P)/s) +1\n",
        "        \n",
        "        #Input shape= (256,3,150,150)\n",
        "        \n",
        "        self.conv1=nn.Conv2d(in_channels=3,out_channels=12,kernel_size=3,stride=1,padding=1)\n",
        "        #Shape= (256,12,150,150)\n",
        "        self.bn1=nn.BatchNorm2d(num_features=12)\n",
        "        #Shape= (256,12,150,150)\n",
        "        self.relu1=nn.ReLU()\n",
        "        #Shape= (256,12,150,150)\n",
        "        \n",
        "        self.pool=nn.MaxPool2d(kernel_size=2)\n",
        "        #Reduce the image size be factor 2\n",
        "        #Shape= (256,12,75,75)\n",
        "        \n",
        "        \n",
        "        self.conv2=nn.Conv2d(in_channels=12,out_channels=20,kernel_size=3,stride=1,padding=1)\n",
        "        #Shape= (256,20,75,75)\n",
        "        self.relu2=nn.ReLU()\n",
        "        #Shape= (256,20,75,75)\n",
        "        \n",
        "        \n",
        "        \n",
        "        self.conv3=nn.Conv2d(in_channels=20,out_channels=32,kernel_size=3,stride=1,padding=1)\n",
        "        #Shape= (256,32,75,75)\n",
        "        self.bn3=nn.BatchNorm2d(num_features=32)\n",
        "        #Shape= (256,32,75,75)\n",
        "        self.relu3=nn.ReLU()\n",
        "        #Shape= (256,32,75,75)\n",
        "        \n",
        "        \n",
        "        self.fc=nn.Linear(in_features=75 * 75 * 32,out_features=num_classes)\n",
        "        \n",
        "        \n",
        "        \n",
        "        #Feed forwad function\n",
        "        \n",
        "    def forward(self,input):\n",
        "        output=self.conv1(input)\n",
        "        output=self.bn1(output)\n",
        "        output=self.relu1(output)\n",
        "            \n",
        "        output=self.pool(output)\n",
        "            \n",
        "        output=self.conv2(output)\n",
        "        output=self.relu2(output)\n",
        "            \n",
        "        output=self.conv3(output)\n",
        "        output=self.bn3(output)\n",
        "        output=self.relu3(output)\n",
        "            \n",
        "            \n",
        "            #Above output will be in matrix form, with shape (256,32,75,75)\n",
        "            \n",
        "        output=output.view(-1,32*75*75)\n",
        "            \n",
        "            \n",
        "        output=self.fc(output)\n",
        "            \n",
        "        return output"
      ],
      "execution_count": null,
      "outputs": []
    },
    {
      "cell_type": "code",
      "metadata": {
        "id": "GTWtm9_N3le6"
      },
      "source": [
        "model=ConvNet(num_classes=6).to(device)"
      ],
      "execution_count": null,
      "outputs": []
    },
    {
      "cell_type": "code",
      "metadata": {
        "id": "fMVh70fr3prz"
      },
      "source": [
        "optimizer=Adam(model.parameters(),lr=0.01,weight_decay=0.0001)\n",
        "loss_function=nn.CrossEntropyLoss()"
      ],
      "execution_count": null,
      "outputs": []
    },
    {
      "cell_type": "code",
      "metadata": {
        "id": "hKiFJtd93sMW"
      },
      "source": [
        "num_epochs=60"
      ],
      "execution_count": null,
      "outputs": []
    },
    {
      "cell_type": "code",
      "metadata": {
        "id": "VT7WtZBh3yzq"
      },
      "source": [
        "#calculating the size of training and testing images\n",
        "train_count=len(glob.glob(train_path+'/**/*.jpg'))\n",
        "test_count=len(glob.glob(test_path+'/**/*.jpg'))"
      ],
      "execution_count": null,
      "outputs": []
    },
    {
      "cell_type": "code",
      "metadata": {
        "colab": {
          "base_uri": "https://localhost:8080/"
        },
        "id": "IMP9HfN237F2",
        "outputId": "8eae95ba-bf8f-41d6-9533-056f71a3ac1d"
      },
      "source": [
        "print(train_count,test_count)"
      ],
      "execution_count": null,
      "outputs": [
        {
          "output_type": "stream",
          "text": [
            "14034 3000\n"
          ],
          "name": "stdout"
        }
      ]
    },
    {
      "cell_type": "code",
      "metadata": {
        "colab": {
          "base_uri": "https://localhost:8080/"
        },
        "id": "uXit165x4CJb",
        "outputId": "037c34bb-448b-4036-abcc-639cec4ef50c"
      },
      "source": [
        "#Model training and saving best model\n",
        "\n",
        "best_accuracy=0.0\n",
        "\n",
        "for epoch in range(num_epochs):\n",
        "    \n",
        "    #Evaluation and training on training dataset\n",
        "    model.train()\n",
        "    train_accuracy=0.0\n",
        "    train_loss=0.0\n",
        "    \n",
        "    for i, (images,labels) in enumerate(train_loader):\n",
        "        if torch.cuda.is_available():\n",
        "            images=Variable(images.cuda())\n",
        "            labels=Variable(labels.cuda())\n",
        "            \n",
        "        optimizer.zero_grad()\n",
        "        \n",
        "        outputs=model(images)\n",
        "        loss=loss_function(outputs,labels)\n",
        "        loss.backward()\n",
        "        optimizer.step()\n",
        "        \n",
        "        \n",
        "        train_loss+= loss.cpu().data*images.size(0)\n",
        "        _,prediction=torch.max(outputs.data,1)\n",
        "        \n",
        "        train_accuracy+=int(torch.sum(prediction==labels.data))\n",
        "        \n",
        "    train_accuracy=train_accuracy/train_count\n",
        "    train_loss=train_loss/train_count\n",
        "    \n",
        "    \n",
        "    # Evaluation on testing dataset\n",
        "    model.eval()\n",
        "    \n",
        "    test_accuracy=0.0\n",
        "    for i, (images,labels) in enumerate(test_loader):\n",
        "        if torch.cuda.is_available():\n",
        "            images=Variable(images.cuda())\n",
        "            labels=Variable(labels.cuda())\n",
        "            \n",
        "        outputs=model(images)\n",
        "        _,prediction=torch.max(outputs.data,1)\n",
        "        test_accuracy+=int(torch.sum(prediction==labels.data))\n",
        "    \n",
        "    test_accuracy=test_accuracy/test_count\n",
        "    \n",
        "    \n",
        "    print('Epoch: '+str(epoch)+' Train Loss: '+str(train_loss)+' Train Accuracy: '+str(train_accuracy)+' Test Accuracy: '+str(test_accuracy))\n",
        "    \n",
        "    #Save the best model\n",
        "    if test_accuracy>best_accuracy:\n",
        "        torch.save(model.state_dict(),'/content/model')\n",
        "        best_accuracy=test_accuracy"
      ],
      "execution_count": null,
      "outputs": [
        {
          "output_type": "stream",
          "text": [
            "Epoch: 0 Train Loss: tensor(10.0097) Train Accuracy: 0.4624483397463303 Test Accuracy: 0.49633333333333335\n",
            "Epoch: 1 Train Loss: tensor(1.1482) Train Accuracy: 0.55956961664529 Test Accuracy: 0.5863333333333334\n",
            "Epoch: 2 Train Loss: tensor(1.0208) Train Accuracy: 0.6001140088356848 Test Accuracy: 0.618\n",
            "Epoch: 3 Train Loss: tensor(0.9528) Train Accuracy: 0.6234858201510617 Test Accuracy: 0.6236666666666667\n",
            "Epoch: 4 Train Loss: tensor(0.9370) Train Accuracy: 0.6360267920763859 Test Accuracy: 0.6223333333333333\n",
            "Epoch: 5 Train Loss: tensor(0.8861) Train Accuracy: 0.6597548810032777 Test Accuracy: 0.585\n",
            "Epoch: 6 Train Loss: tensor(0.8597) Train Accuracy: 0.6750748182984181 Test Accuracy: 0.6463333333333333\n",
            "Epoch: 7 Train Loss: tensor(0.8394) Train Accuracy: 0.6770699729229015 Test Accuracy: 0.6746666666666666\n",
            "Epoch: 8 Train Loss: tensor(0.8196) Train Accuracy: 0.6866894684338036 Test Accuracy: 0.6863333333333334\n",
            "Epoch: 9 Train Loss: tensor(0.8089) Train Accuracy: 0.6934587430525866 Test Accuracy: 0.6573333333333333\n",
            "Epoch: 10 Train Loss: tensor(0.8094) Train Accuracy: 0.6926036767849508 Test Accuracy: 0.6496666666666666\n",
            "Epoch: 11 Train Loss: tensor(0.7916) Train Accuracy: 0.698517885136098 Test Accuracy: 0.6766666666666666\n",
            "Epoch: 12 Train Loss: tensor(0.7931) Train Accuracy: 0.7038620493088215 Test Accuracy: 0.6866666666666666\n",
            "Epoch: 13 Train Loss: tensor(0.7942) Train Accuracy: 0.7083511472139091 Test Accuracy: 0.691\n",
            "Epoch: 14 Train Loss: tensor(0.7722) Train Accuracy: 0.7079236140800912 Test Accuracy: 0.619\n",
            "Epoch: 15 Train Loss: tensor(0.7633) Train Accuracy: 0.721960951973778 Test Accuracy: 0.6856666666666666\n",
            "Epoch: 16 Train Loss: tensor(0.7681) Train Accuracy: 0.7129115006412997 Test Accuracy: 0.6923333333333334\n",
            "Epoch: 17 Train Loss: tensor(0.7450) Train Accuracy: 0.7181131537694171 Test Accuracy: 0.7026666666666667\n",
            "Epoch: 18 Train Loss: tensor(0.7682) Train Accuracy: 0.7162605101895397 Test Accuracy: 0.709\n",
            "Epoch: 19 Train Loss: tensor(0.7466) Train Accuracy: 0.722032207496081 Test Accuracy: 0.689\n",
            "Epoch: 20 Train Loss: tensor(0.7477) Train Accuracy: 0.7209633746615363 Test Accuracy: 0.6876666666666666\n",
            "Epoch: 21 Train Loss: tensor(0.7387) Train Accuracy: 0.7235285734644435 Test Accuracy: 0.721\n",
            "Epoch: 22 Train Loss: tensor(0.7287) Train Accuracy: 0.7308678922616503 Test Accuracy: 0.708\n",
            "Epoch: 23 Train Loss: tensor(0.7151) Train Accuracy: 0.7361408009120707 Test Accuracy: 0.7113333333333334\n",
            "Epoch: 24 Train Loss: tensor(0.7345) Train Accuracy: 0.7276613937580162 Test Accuracy: 0.6976666666666667\n",
            "Epoch: 25 Train Loss: tensor(0.7201) Train Accuracy: 0.7337893686760724 Test Accuracy: 0.718\n",
            "Epoch: 26 Train Loss: tensor(0.7315) Train Accuracy: 0.7327205358415277 Test Accuracy: 0.701\n",
            "Epoch: 27 Train Loss: tensor(0.7110) Train Accuracy: 0.7340743907652844 Test Accuracy: 0.7096666666666667\n",
            "Epoch: 28 Train Loss: tensor(0.7255) Train Accuracy: 0.7344306683767992 Test Accuracy: 0.7053333333333334\n",
            "Epoch: 29 Train Loss: tensor(0.7022) Train Accuracy: 0.7447627191107311 Test Accuracy: 0.6973333333333334\n",
            "Epoch: 30 Train Loss: tensor(0.7196) Train Accuracy: 0.7416274761294 Test Accuracy: 0.7163333333333334\n",
            "Epoch: 31 Train Loss: tensor(0.7004) Train Accuracy: 0.7459740629898817 Test Accuracy: 0.7033333333333334\n",
            "Epoch: 32 Train Loss: tensor(0.7044) Train Accuracy: 0.7446914635884281 Test Accuracy: 0.5273333333333333\n",
            "Epoch: 33 Train Loss: tensor(0.7113) Train Accuracy: 0.738420977625766 Test Accuracy: 0.7276666666666667\n",
            "Epoch: 34 Train Loss: tensor(0.6990) Train Accuracy: 0.7484680062704859 Test Accuracy: 0.7003333333333334\n",
            "Epoch: 35 Train Loss: tensor(0.7274) Train Accuracy: 0.7396323215049166 Test Accuracy: 0.699\n",
            "Epoch: 36 Train Loss: tensor(0.7088) Train Accuracy: 0.7406298988171583 Test Accuracy: 0.7006666666666667\n",
            "Epoch: 37 Train Loss: tensor(0.7062) Train Accuracy: 0.7479692176143651 Test Accuracy: 0.71\n",
            "Epoch: 38 Train Loss: tensor(0.6940) Train Accuracy: 0.7500356277611515 Test Accuracy: 0.7293333333333333\n",
            "Epoch: 39 Train Loss: tensor(0.6976) Train Accuracy: 0.7444064414992162 Test Accuracy: 0.7203333333333334\n",
            "Epoch: 40 Train Loss: tensor(0.6888) Train Accuracy: 0.7467578737352145 Test Accuracy: 0.4046666666666667\n",
            "Epoch: 41 Train Loss: tensor(0.7043) Train Accuracy: 0.7511044605956961 Test Accuracy: 0.7106666666666667\n",
            "Epoch: 42 Train Loss: tensor(0.6910) Train Accuracy: 0.7503919053726664 Test Accuracy: 0.7043333333333334\n",
            "Epoch: 43 Train Loss: tensor(0.7017) Train Accuracy: 0.7456890409006698 Test Accuracy: 0.7223333333333334\n",
            "Epoch: 44 Train Loss: tensor(0.6916) Train Accuracy: 0.7500356277611515 Test Accuracy: 0.7176666666666667\n",
            "Epoch: 45 Train Loss: tensor(0.6957) Train Accuracy: 0.7437651417984894 Test Accuracy: 0.726\n",
            "Epoch: 46 Train Loss: tensor(0.6959) Train Accuracy: 0.7500356277611515 Test Accuracy: 0.7056666666666667\n",
            "Epoch: 47 Train Loss: tensor(0.6944) Train Accuracy: 0.7523158044748468 Test Accuracy: 0.7286666666666667\n",
            "Epoch: 48 Train Loss: tensor(0.6871) Train Accuracy: 0.7475416844805473 Test Accuracy: 0.7086666666666667\n",
            "Epoch: 49 Train Loss: tensor(0.6972) Train Accuracy: 0.7472566623913354 Test Accuracy: 0.7186666666666667\n",
            "Epoch: 50 Train Loss: tensor(0.6860) Train Accuracy: 0.7511044605956961 Test Accuracy: 0.728\n",
            "Epoch: 51 Train Loss: tensor(0.7137) Train Accuracy: 0.7490380504489098 Test Accuracy: 0.693\n",
            "Epoch: 52 Train Loss: tensor(0.6702) Train Accuracy: 0.7560210916346016 Test Accuracy: 0.676\n",
            "Epoch: 53 Train Loss: tensor(0.6948) Train Accuracy: 0.7457602964229728 Test Accuracy: 0.7016666666666667\n",
            "Epoch: 54 Train Loss: tensor(0.6737) Train Accuracy: 0.7546672367108451 Test Accuracy: 0.7066666666666667\n",
            "Epoch: 55 Train Loss: tensor(0.6908) Train Accuracy: 0.7478267065697591 Test Accuracy: 0.6956666666666667\n",
            "Epoch: 56 Train Loss: tensor(0.6826) Train Accuracy: 0.7515319937295141 Test Accuracy: 0.7143333333333334\n",
            "Epoch: 57 Train Loss: tensor(0.6939) Train Accuracy: 0.7494655835827276 Test Accuracy: 0.727\n",
            "Epoch: 58 Train Loss: tensor(0.7121) Train Accuracy: 0.7426963089639447 Test Accuracy: 0.7226666666666667\n",
            "Epoch: 59 Train Loss: tensor(0.6905) Train Accuracy: 0.7478267065697591 Test Accuracy: 0.7256666666666667\n"
          ],
          "name": "stdout"
        }
      ]
    },
    {
      "cell_type": "code",
      "metadata": {
        "colab": {
          "base_uri": "https://localhost:8080/",
          "height": 35
        },
        "id": "XSlYGkQW-Dnp",
        "outputId": "e9f6fe51-4872-49f8-efe2-fe5acd89aa20"
      },
      "source": [
        "pwd"
      ],
      "execution_count": null,
      "outputs": [
        {
          "output_type": "execute_result",
          "data": {
            "application/vnd.google.colaboratory.intrinsic+json": {
              "type": "string"
            },
            "text/plain": [
              "'/content'"
            ]
          },
          "metadata": {
            "tags": []
          },
          "execution_count": 2
        }
      ]
    },
    {
      "cell_type": "code",
      "metadata": {
        "colab": {
          "base_uri": "https://localhost:8080/"
        },
        "id": "_S6rd9YI_H9h",
        "outputId": "68b38afa-04cd-4e0a-d90a-55d45739d4e2"
      },
      "source": [
        "!gdown https://drive.google.com/uc?id=1Ws6Cdp8WmUMiJyNyCpTYunVIrhI7SMGR\n",
        "#https://drive.google.com/file/d/1Ws6Cdp8WmUMiJyNyCpTYunVIrhI7SMGR/view?usp=sharing"
      ],
      "execution_count": null,
      "outputs": [
        {
          "output_type": "stream",
          "text": [
            "Downloading...\n",
            "From: https://drive.google.com/uc?id=1Ws6Cdp8WmUMiJyNyCpTYunVIrhI7SMGR\n",
            "To: /content/model.zip\n",
            "\r0.00B [00:00, ?B/s]\r4.36MB [00:00, 38.5MB/s]\n"
          ],
          "name": "stdout"
        }
      ]
    },
    {
      "cell_type": "code",
      "metadata": {
        "colab": {
          "base_uri": "https://localhost:8080/"
        },
        "id": "H6ziTQyG9tW1",
        "outputId": "edd0503d-d30c-4220-da09-8c55092b9d7f"
      },
      "source": [
        "!unzip /content/model.zip"
      ],
      "execution_count": null,
      "outputs": [
        {
          "output_type": "stream",
          "text": [
            "Archive:  /content/model.zip\n",
            " extracting: archive/data.pkl        \n",
            " extracting: archive/data/94341636305840  \n",
            " extracting: archive/data/94341636305920  \n",
            " extracting: archive/data/94341636306000  \n",
            " extracting: archive/data/94341636306080  \n",
            " extracting: archive/data/94341636306160  \n",
            " extracting: archive/data/94341636306320  \n",
            " extracting: archive/data/94341636306400  \n",
            " extracting: archive/data/94341636306480  \n",
            " extracting: archive/data/94341636306560  \n",
            " extracting: archive/data/94341636306640  \n",
            " extracting: archive/data/94341636306720  \n",
            " extracting: archive/data/94341636306800  \n",
            " extracting: archive/data/94341636306880  \n",
            " extracting: archive/data/94341636307040  \n",
            " extracting: archive/data/94341636307120  \n",
            " extracting: archive/data/94341636307280  \n",
            " extracting: archive/data/94344072167904  \n",
            " extracting: archive/data/94344072389648  \n",
            " extracting: archive/version         \n"
          ],
          "name": "stdout"
        }
      ]
    },
    {
      "cell_type": "code",
      "metadata": {
        "id": "FAaZHLQWeymo"
      },
      "source": [
        "model.eval()\n",
        "\n",
        "test_accuracy=0.0\n",
        "for i, (images,labels) in enumerate(test_loader):\n",
        "    if torch.cuda.is_available():\n",
        "        images=Variable(images.cuda())\n",
        "        labels=Variable(labels.cuda())\n",
        "        \n",
        "    outputs=model(images)\n",
        "    _,prediction=torch.max(outputs.data,1)"
      ],
      "execution_count": null,
      "outputs": []
    },
    {
      "cell_type": "code",
      "metadata": {
        "colab": {
          "base_uri": "https://localhost:8080/"
        },
        "id": "8T9W-KwFe641",
        "outputId": "f64d81cc-76e8-4e11-b5d6-67042d281362"
      },
      "source": [
        "torch.max(outputs.data,1)"
      ],
      "execution_count": null,
      "outputs": [
        {
          "output_type": "execute_result",
          "data": {
            "text/plain": [
              "torch.return_types.max(values=tensor([0.0719, 0.0330, 0.0410, 0.0636]), indices=tensor([5, 5, 5, 5]))"
            ]
          },
          "metadata": {
            "tags": []
          },
          "execution_count": 33
        }
      ]
    },
    {
      "cell_type": "code",
      "metadata": {
        "id": "RGpV_c-SfAkB",
        "colab": {
          "base_uri": "https://localhost:8080/"
        },
        "outputId": "e11787a1-173d-4bed-ce3b-f7daf241c70a"
      },
      "source": [
        "print(labels.data)"
      ],
      "execution_count": null,
      "outputs": [
        {
          "output_type": "stream",
          "text": [
            "tensor([1, 2, 0, 5])\n"
          ],
          "name": "stdout"
        }
      ]
    }
  ]
}